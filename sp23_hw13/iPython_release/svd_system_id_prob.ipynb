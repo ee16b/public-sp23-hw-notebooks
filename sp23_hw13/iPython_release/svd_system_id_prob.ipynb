{
 "cells": [
  {
   "cell_type": "markdown",
   "id": "9fe2e727-e2b0-49d1-b5af-335714504b20",
   "metadata": {},
   "source": [
    "# Practical SVD System ID\n",
    "\n",
    "Consider the following discrete-time system:\n",
    "$$x[i+1] = a x[i] + b_1 u_1[i] + b_2 u_2[i]$$\n",
    "for some unknown system parameters $a, b_1, b_2$. We can estimate the unknown parameters by setting up a system of linear equations and solving it, namely\n",
    "$$D \\vec{p} = \\vec{s}$$\n",
    "where $\\vec{p} = \\begin{bmatrix} a \\\\ b_1 \\\\ b_2 \\end{bmatrix}$ contain our unknown parameters.\n",
    "Previously, we discussed that if $u_2[i] = \\alpha u_1[i]$ for some constant $\\alpha \\in \\mathbb{R}$, then we cannot use our traditional least squares approach for performing system ID. Since $D \\in \\mathbb{R}^{m \\times n}$ would not have full column rank in this case, we have to resort to other methods for estimating $\\vec{p}$. From the previous homework, we know how to apply the SVD to solve this problem assuming $\\mathrm{rank}(D) < \\min(m, n)$. Let us apply this approach here."
   ]
  },
  {
   "cell_type": "code",
   "execution_count": null,
   "id": "91e80632-61f7-4d88-9a34-b25ea9c62e2b",
   "metadata": {},
   "outputs": [],
   "source": [
    "import numpy as np\n",
    "import matplotlib.pyplot as plt\n",
    "np.random.seed(1)"
   ]
  },
  {
   "cell_type": "markdown",
   "id": "34bad3cc-6352-47f1-b62a-fbb5530ea485",
   "metadata": {},
   "source": [
    "Below, we define some inputs which we will use to identify the system. Notice that we set $u_2[i] = 2 u_1[i]$."
   ]
  },
  {
   "cell_type": "code",
   "execution_count": null,
   "id": "fa45df3b-caa4-4e5e-afc6-575ee06eeec0",
   "metadata": {},
   "outputs": [],
   "source": [
    "u1_inp = np.array([1, -1, 2, 3, 2, 2, 1, -2, 5])\n",
    "u2_inp = 2*u1_inp\n",
    "x0 = 0"
   ]
  },
  {
   "cell_type": "markdown",
   "id": "e9faeb62-2082-4daa-aa83-5ce313ef4d90",
   "metadata": {},
   "source": [
    "Next, we will generate data by applying inputs to our system and observing the states. Our actual system parameters are $a = 0.5, b_1 = -2, b_2 = 3$. Let's see how close our solution gets to these actual parameters."
   ]
  },
  {
   "cell_type": "code",
   "execution_count": null,
   "id": "2d8faa9d-e112-47a1-a756-97facbc1da5c",
   "metadata": {},
   "outputs": [],
   "source": [
    "def generate_data(x0, u1_inp, u2_inp):\n",
    "    xs = [x0]\n",
    "    for i in range(len(u1_inp)):\n",
    "        x_next = 0.5*xs[-1] - 2*u1_inp[i] + 3*u2_inp[i] + np.random.normal()\n",
    "        xs.append(x_next)\n",
    "    return np.array(xs)"
   ]
  },
  {
   "cell_type": "code",
   "execution_count": null,
   "id": "c63060ab-a741-4487-b75f-418f5878a7dd",
   "metadata": {},
   "outputs": [],
   "source": [
    "xs = generate_data(x0, u1_inp, u2_inp)"
   ]
  },
  {
   "cell_type": "code",
   "execution_count": null,
   "id": "e2215cd6-632a-442f-9998-e1261f1f28b4",
   "metadata": {},
   "outputs": [],
   "source": [
    "xs = np.expand_dims(xs, axis=1)\n",
    "u1_inp = np.expand_dims(u1_inp, axis=1)\n",
    "u2_inp = np.expand_dims(u2_inp, axis=1)"
   ]
  },
  {
   "cell_type": "markdown",
   "id": "b1bfdd40-8b9b-4979-b6f9-b62fc74df000",
   "metadata": {},
   "source": [
    "__First, define our $D$ matrix and $\\vec{s}$ vector using the generated data.__ The numpy array `xs` has data arranged like $\\begin{bmatrix} x[0] \\\\ x[1] \\\\ \\vdots \\\\ x[9] \\end{bmatrix}$, the numpy array `u1_inp` has data arranged like $\\begin{bmatrix} u_1[0] \\\\ u_1[1] \\\\ \\vdots \\\\ u_1[8] \\end{bmatrix}$, and the numpy array `u2_inp` has data arranged like $\\begin{bmatrix} u_2[0] \\\\ u_2[1] \\\\ \\vdots \\\\ u_2[8] \\end{bmatrix}$\n",
    "\n",
    "HINT: You may find the following function useful: https://numpy.org/doc/stable/reference/generated/numpy.hstack.html"
   ]
  },
  {
   "cell_type": "code",
   "execution_count": null,
   "id": "c2d62d76-652b-431e-9ca8-ce0b045ca091",
   "metadata": {},
   "outputs": [],
   "source": [
    "D = ... # YOUR CODE HERE\n",
    "s = ... # YOUR CODE HERE"
   ]
  },
  {
   "cell_type": "markdown",
   "id": "d7416583-9556-4618-8410-cbe225f78e70",
   "metadata": {},
   "source": [
    "We expect $D$ to have dimensions $9 \\times 3$. __Use the cell below to confirm that. Then, compute the rank of $D$.__ Make sure it matches with what you expect for our choice of inputs.\n",
    "\n",
    "HINT: You may find the following function useful: https://numpy.org/doc/stable/reference/generated/numpy.linalg.matrix_rank.html"
   ]
  },
  {
   "cell_type": "code",
   "execution_count": null,
   "id": "7e45c7ed-080a-4596-8cee-911e627b8b93",
   "metadata": {},
   "outputs": [],
   "source": [
    "m, n = D.shape\n",
    "r = ... # YOUR CODE HERE\n",
    "print(f'Dimensions of D: {m} by {n}')\n",
    "print('Rank of D:', r)"
   ]
  },
  {
   "cell_type": "markdown",
   "id": "0c7b96b6-01e4-4352-9125-0f88af0c36f1",
   "metadata": {},
   "source": [
    "__Next, write code to compute the SVD of $D$.__ Let $U$ be denoted with `U`, $\\Sigma$ be denoted with `Sig`, and $V$ be denoted with `V`.\n",
    "\n",
    "HINT: You may find the following functions useful: https://numpy.org/doc/stable/reference/generated/numpy.linalg.svd.html, https://numpy.org/doc/stable/reference/generated/numpy.diag.html. Take careful note of the outputs of `np.linalg.svd`."
   ]
  },
  {
   "cell_type": "code",
   "execution_count": null,
   "id": "0d8028e8-a4a1-4f9c-a0d8-9e6b8d062768",
   "metadata": {},
   "outputs": [],
   "source": [
    "# YOUR CODE HERE #"
   ]
  },
  {
   "cell_type": "markdown",
   "id": "d3f106b7-6ac4-4e0a-9ae8-1085286b4f46",
   "metadata": {},
   "source": [
    "__Using the previous cell, write code to find $U_r$ (denoted `U_r`) and $\\Sigma_r$ (denoted `Sig_r`).__"
   ]
  },
  {
   "cell_type": "code",
   "execution_count": null,
   "id": "04f2f54f-a7c9-4ff4-ab80-863aa0199812",
   "metadata": {},
   "outputs": [],
   "source": [
    "U_r = ... # YOUR CODE HERE\n",
    "Sig_r = ... # YOUR CODE HERE"
   ]
  },
  {
   "cell_type": "markdown",
   "id": "9e04c7b1-a1d7-4cc0-a89e-c306a6367c49",
   "metadata": {},
   "source": [
    "From the previous homework, we know that\n",
    "$$\\vec{p}_{\\star} = V \\begin{bmatrix} \\Sigma_r^{-1} U_r^\\top \\vec{s} \\\\ \\vec{0}_{n-r} \\end{bmatrix}$$\n",
    "is the lowest-norm choice of $\\vec{p}$ that minimizes $\\lVert D \\vec{p} - \\vec{s} \\rVert$. __Write this solution in code (where $\\vec{p}_{\\star}$ is denoted by `p_star`). Are the values of $a, b_1, b_2$ what you expect? Why or why not?__\n",
    "\n",
    "HINT: You may find the following functions useful: https://numpy.org/doc/stable/reference/generated/numpy.linalg.inv.html, https://numpy.org/doc/stable/reference/generated/numpy.vstack.html"
   ]
  },
  {
   "cell_type": "code",
   "execution_count": null,
   "id": "2b3c3a96-9cb6-448f-8cb1-0560af7af54d",
   "metadata": {
    "scrolled": false
   },
   "outputs": [],
   "source": [
    "p_star = ... # YOUR CODE HERE\n",
    "print(\"optimal p\", p_star)\n",
    "print(\"norm of p\", np.linalg.norm(p_star))"
   ]
  },
  {
   "cell_type": "markdown",
   "id": "633bd3c8",
   "metadata": {},
   "source": [
    "We can see how closely our estimated system's trajectory follows the true system's trajectory:"
   ]
  },
  {
   "cell_type": "code",
   "execution_count": null,
   "id": "031dd2e4-b0e1-47dd-aa25-8f8ffd5fdc00",
   "metadata": {},
   "outputs": [],
   "source": [
    "def plot_trajectory_vs_ground_truth(p_star, u1_inp, u2_inp, x0):\n",
    "    xs_gt = [x0]\n",
    "    xs_est = [x0]\n",
    "    a_star = p_star[0,0]\n",
    "    b_1_star = p_star[1,0]\n",
    "    b_2_star = p_star[2,0]\n",
    "    for i in range(len(u1_inp)):\n",
    "        x_next = 0.5*xs[-1] - 2*u1_inp[i] + 3*u2_inp[i]\n",
    "        xs_gt.append(x_next)\n",
    "        x_next_est = a_star*xs_est[-1] + b_1_star*u1_inp[i] + b_2_star*u2_inp[i]\n",
    "        xs_est.append(x_next_est)\n",
    "    plt.plot(xs_gt, label=\"Ground Truth Trajectory\")\n",
    "    plt.plot(xs_est, label=\"Estimated Trajectory\")\n",
    "    plt.legend(loc=\"best\")"
   ]
  },
  {
   "cell_type": "code",
   "execution_count": null,
   "id": "60096ca3",
   "metadata": {},
   "outputs": [],
   "source": [
    "plot_trajectory_vs_ground_truth(p_star, u1_inp, u2_inp, 0)"
   ]
  },
  {
   "cell_type": "markdown",
   "id": "68e9ed0b",
   "metadata": {},
   "source": [
    "We can try replacing the vector of zeros ($\\vec{0}_{n-k}$) with another arbitrary vector $\\vec{k} \\in \\mathbb{R}^{n-k}$ (denoted `random_k`). That is, we can find\n",
    "$$\\vec{\\widetilde{p}} = V \\begin{bmatrix} \\Sigma_r^{-1} U_r^\\top \\vec{s} \\\\ \\vec{k} \\end{bmatrix}$$\n",
    "__Will using the values of $a, b_1, b_2$ in $\\vec{\\widetilde{p}}$ instead of $\\vec{p}$ change the trajectory of the system for the given inputs? Why or why not? Fill in the code below to verify your answer.__"
   ]
  },
  {
   "cell_type": "code",
   "execution_count": null,
   "id": "ca9029cc",
   "metadata": {},
   "outputs": [],
   "source": [
    "random_k = np.random.randn(n-r, 1)\n",
    "p_tilde = ... # YOUR CODE HERE\n",
    "plot_trajectory_vs_ground_truth(p_tilde, u1_inp, u2_inp, 0)"
   ]
  },
  {
   "cell_type": "markdown",
   "id": "c7c84341",
   "metadata": {},
   "source": [
    "We can observe this phenomenon more generally by testing several random vectors in place of $\\vec{0}_{n-k}$. First, we generate a large set of arbitrary $\\vec{k}$ vectors. We can compute the highest loss (i.e., the highest value of $\\lVert D \\vec{\\widetilde{p}} - \\vec{s} \\rVert$) among all randomly generated $\\vec{k}$, and we can look at the lowest norm (i.e., the lowest value of $\\lVert \\vec{\\widetilde{p}} \\rVert$) among all randomly generated $\\vec{k}$. __What do you expect for each of these quantities (i.e., for $\\lVert D \\vec{\\widetilde{p}} - \\vec{s} \\rVert$ and $\\lVert \\vec{\\widetilde{p}} \\rVert$)? Fill in the code below to verify your answer.__"
   ]
  },
  {
   "cell_type": "code",
   "execution_count": null,
   "id": "db485d5d-876a-4024-8da3-8cd502caea11",
   "metadata": {},
   "outputs": [],
   "source": [
    "def insert_random_vectors(num_trials=100, rand_k_range=5):\n",
    "    highest_loss = -float('inf')\n",
    "    lowest_norm = float('inf')\n",
    "    for _ in range(num_trials):\n",
    "        random_k = rand_k_range*np.random.randn(n-r, 1)\n",
    "        p_test = ... # YOUR CODE HERE\n",
    "        highest_loss = max(highest_loss, np.linalg.norm(D @ p_test - s))\n",
    "        lowest_norm = min(lowest_norm, np.linalg.norm(p_test))\n",
    "    return highest_loss, lowest_norm"
   ]
  },
  {
   "cell_type": "code",
   "execution_count": null,
   "id": "3585ae46-ead9-478b-8739-6c2cbd8d3fb1",
   "metadata": {},
   "outputs": [],
   "source": [
    "highest_loss, lowest_norm = insert_random_vectors()\n",
    "print(\"highest loss\", highest_loss)\n",
    "print(\"lowest norm\", lowest_norm)"
   ]
  }
 ],
 "metadata": {
  "kernelspec": {
   "display_name": "Python 3 (ipykernel)",
   "language": "python",
   "name": "python3"
  },
  "language_info": {
   "codemirror_mode": {
    "name": "ipython",
    "version": 3
   },
   "file_extension": ".py",
   "mimetype": "text/x-python",
   "name": "python",
   "nbconvert_exporter": "python",
   "pygments_lexer": "ipython3",
   "version": "3.9.13"
  }
 },
 "nbformat": 4,
 "nbformat_minor": 5
}
